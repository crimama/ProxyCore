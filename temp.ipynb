{
 "cells": [
  {
   "cell_type": "code",
   "execution_count": 1,
   "metadata": {},
   "outputs": [
    {
     "name": "stdout",
     "output_type": "stream",
     "text": [
      "\n",
      " Experiment Name : Baseline-anomaly_ratio_0.0\n",
      "\n"
     ]
    }
   ],
   "source": [
    "from arguments import parser \n",
    "import os \n",
    "os.environ['CUDA_VISIBLE_DEVICES'] = '0' \n",
    "default_setting = './configs/default/visa.yaml'\n",
    "model_setting = './configs/model/proxy.yaml'\n",
    "cfg = parser(True,default_setting, model_setting)"
   ]
  },
  {
   "cell_type": "code",
   "execution_count": 2,
   "metadata": {},
   "outputs": [],
   "source": [
    "from datasets.factory import get_visa_df\n",
    "\n",
    "df = get_visa_df(\n",
    "    dataset_name = 'VISA',\n",
    "    datadir = '../Data',\n",
    "    class_name = 'pcb1',\n",
    "    baseline = False,\n",
    "    anomaly_ratio = 0.01\n",
    ")"
   ]
  },
  {
   "cell_type": "code",
   "execution_count": 3,
   "metadata": {},
   "outputs": [],
   "source": [
    "from datasets import create_dataset \n",
    "trainset, testset = create_dataset(\n",
    "    dataset_name  = cfg.DATASET.dataset_name,\n",
    "    datadir       = cfg.DATASET.datadir,\n",
    "    class_name    = cfg.DATASET.class_name,\n",
    "    img_size      = cfg.DATASET.img_size,\n",
    "    mean          = cfg.DATASET.mean,\n",
    "    std           = cfg.DATASET.std,\n",
    "    aug_info      = cfg.DATASET.aug_info,\n",
    "    **cfg.DATASET.get('params',{})\n",
    ")"
   ]
  },
  {
   "cell_type": "code",
   "execution_count": 7,
   "metadata": {},
   "outputs": [
    {
     "ename": "AttributeError",
     "evalue": "'MVTecAD' object has no attribute 'mask'",
     "output_type": "error",
     "traceback": [
      "\u001b[0;31m---------------------------------------------------------------------------\u001b[0m",
      "\u001b[0;31mAttributeError\u001b[0m                            Traceback (most recent call last)",
      "\u001b[0;32m<ipython-input-7-2d3d07d590a7>\u001b[0m in \u001b[0;36m<module>\u001b[0;34m\u001b[0m\n\u001b[0;32m----> 1\u001b[0;31m \u001b[0mtrainset\u001b[0m\u001b[0;34m.\u001b[0m\u001b[0mmask\u001b[0m\u001b[0;34m\u001b[0m\u001b[0;34m\u001b[0m\u001b[0m\n\u001b[0m",
      "\u001b[0;31mAttributeError\u001b[0m: 'MVTecAD' object has no attribute 'mask'"
     ]
    }
   ],
   "source": [
    "trainset.mask"
   ]
  },
  {
   "cell_type": "code",
   "execution_count": 7,
   "metadata": {},
   "outputs": [
    {
     "data": {
      "text/plain": [
       "'pcb1/Data/Masks/Anomaly/097.png'"
      ]
     },
     "execution_count": 7,
     "metadata": {},
     "output_type": "execute_result"
    }
   ],
   "source": [
    "self = trainset \n",
    "train_mode = 'test'\n",
    "idx = -1\n",
    "self.df[self.df['train/test']==train_mode]['mask'].iloc[idx]"
   ]
  },
  {
   "cell_type": "code",
   "execution_count": 13,
   "metadata": {},
   "outputs": [
    {
     "data": {
      "text/plain": [
       "0                                   ../Data/nan\n",
       "1                                   ../Data/nan\n",
       "2                                   ../Data/nan\n",
       "3                                   ../Data/nan\n",
       "4                                   ../Data/nan\n",
       "                         ...                   \n",
       "1054    ../Data/pcb1/Data/Masks/Anomaly/090.png\n",
       "1055    ../Data/pcb1/Data/Masks/Anomaly/091.png\n",
       "1056    ../Data/pcb1/Data/Masks/Anomaly/094.png\n",
       "1057    ../Data/pcb1/Data/Masks/Anomaly/095.png\n",
       "1058    ../Data/pcb1/Data/Masks/Anomaly/097.png\n",
       "Name: mask, Length: 1059, dtype: object"
      ]
     },
     "execution_count": 13,
     "metadata": {},
     "output_type": "execute_result"
    }
   ],
   "source": [
    "datadir = '../Data'\n",
    "dataset_name = 'VISA'\n",
    "class_name  = 'pcb1' \n",
    "\n",
    "self.df['mask'].apply(lambda x : os.path.join(datadir,str(x)))"
   ]
  }
 ],
 "metadata": {
  "kernelspec": {
   "display_name": "Python 3",
   "language": "python",
   "name": "python3"
  },
  "language_info": {
   "codemirror_mode": {
    "name": "ipython",
    "version": 3
   },
   "file_extension": ".py",
   "mimetype": "text/x-python",
   "name": "python",
   "nbconvert_exporter": "python",
   "pygments_lexer": "ipython3",
   "version": "3.8.10"
  }
 },
 "nbformat": 4,
 "nbformat_minor": 2
}
